{
 "cells": [
  {
   "cell_type": "markdown",
   "metadata": {},
   "source": [
    "# Continuous Control\n",
    "\n",
    "---\n",
    "\n",
    "In this notebook, you will learn how to use the Unity ML-Agents environment for the second project of the [Deep Reinforcement Learning Nanodegree](https://www.udacity.com/course/deep-reinforcement-learning-nanodegree--nd893) program.\n",
    "\n",
    "### 1. Start the Environment\n",
    "\n",
    "We begin by importing the necessary packages.  If the code cell below returns an error, please revisit the project instructions to double-check that you have installed [Unity ML-Agents](https://github.com/Unity-Technologies/ml-agents/blob/master/docs/Installation.md) and [NumPy](http://www.numpy.org/)."
   ]
  },
  {
   "cell_type": "code",
   "execution_count": 1,
   "metadata": {},
   "outputs": [],
   "source": [
    "from unityagents import UnityEnvironment\n",
    "import numpy as np"
   ]
  },
  {
   "cell_type": "markdown",
   "metadata": {},
   "source": [
    "Next, we will start the environment!  **_Before running the code cell below_**, change the `file_name` parameter to match the location of the Unity environment that you downloaded.\n",
    "\n",
    "- **Mac**: `\"path/to/Reacher.app\"`\n",
    "- **Windows** (x86): `\"path/to/Reacher_Windows_x86/Reacher.exe\"`\n",
    "- **Windows** (x86_64): `\"path/to/Reacher_Windows_x86_64/Reacher.exe\"`\n",
    "- **Linux** (x86): `\"path/to/Reacher_Linux/Reacher.x86\"`\n",
    "- **Linux** (x86_64): `\"path/to/Reacher_Linux/Reacher.x86_64\"`\n",
    "- **Linux** (x86, headless): `\"path/to/Reacher_Linux_NoVis/Reacher.x86\"`\n",
    "- **Linux** (x86_64, headless): `\"path/to/Reacher_Linux_NoVis/Reacher.x86_64\"`\n",
    "\n",
    "For instance, if you are using a Mac, then you downloaded `Reacher.app`.  If this file is in the same folder as the notebook, then the line below should appear as follows:\n",
    "```\n",
    "env = UnityEnvironment(file_name=\"Reacher.app\")\n",
    "```"
   ]
  },
  {
   "cell_type": "code",
   "execution_count": 2,
   "metadata": {},
   "outputs": [
    {
     "name": "stderr",
     "output_type": "stream",
     "text": [
      "INFO:unityagents:\n",
      "'Academy' started successfully!\n",
      "Unity Academy name: Academy\n",
      "        Number of Brains: 1\n",
      "        Number of External Brains : 1\n",
      "        Lesson number : 0\n",
      "        Reset Parameters :\n",
      "\t\tgoal_size -> 5.0\n",
      "\t\tgoal_speed -> 1.0\n",
      "Unity brain name: ReacherBrain\n",
      "        Number of Visual Observations (per agent): 0\n",
      "        Vector Observation space type: continuous\n",
      "        Vector Observation space size (per agent): 33\n",
      "        Number of stacked Vector Observation: 1\n",
      "        Vector Action space type: continuous\n",
      "        Vector Action space size (per agent): 4\n",
      "        Vector Action descriptions: , , , \n"
     ]
    }
   ],
   "source": [
    "env = UnityEnvironment(file_name='Reacher_Linux/Reacher.x86_64')"
   ]
  },
  {
   "cell_type": "markdown",
   "metadata": {},
   "source": [
    "Environments contain **_brains_** which are responsible for deciding the actions of their associated agents. Here we check for the first brain available, and set it as the default brain we will be controlling from Python."
   ]
  },
  {
   "cell_type": "code",
   "execution_count": 3,
   "metadata": {},
   "outputs": [],
   "source": [
    "# get the default brain\n",
    "brain_name = env.brain_names[0]\n",
    "brain = env.brains[brain_name]"
   ]
  },
  {
   "cell_type": "markdown",
   "metadata": {},
   "source": [
    "### 2. Examine the State and Action Spaces\n",
    "\n",
    "In this environment, a double-jointed arm can move to target locations. A reward of `+0.1` is provided for each step that the agent's hand is in the goal location. Thus, the goal of your agent is to maintain its position at the target location for as many time steps as possible.\n",
    "\n",
    "The observation space consists of `33` variables corresponding to position, rotation, velocity, and angular velocities of the arm.  Each action is a vector with four numbers, corresponding to torque applicable to two joints.  Every entry in the action vector must be a number between `-1` and `1`.\n",
    "\n",
    "Run the code cell below to print some information about the environment."
   ]
  },
  {
   "cell_type": "code",
   "execution_count": 4,
   "metadata": {},
   "outputs": [
    {
     "name": "stdout",
     "output_type": "stream",
     "text": [
      "Number of agents: 20\n",
      "Size of each action: 4\n",
      "There are 20 agents. Each observes a state with length: 33\n",
      "The state for the first agent looks like: [ 0.00000000e+00 -4.00000000e+00  0.00000000e+00  1.00000000e+00\n",
      " -0.00000000e+00 -0.00000000e+00 -4.37113883e-08  0.00000000e+00\n",
      "  0.00000000e+00  0.00000000e+00  0.00000000e+00  0.00000000e+00\n",
      "  0.00000000e+00  0.00000000e+00 -1.00000000e+01  0.00000000e+00\n",
      "  1.00000000e+00 -0.00000000e+00 -0.00000000e+00 -4.37113883e-08\n",
      "  0.00000000e+00  0.00000000e+00  0.00000000e+00  0.00000000e+00\n",
      "  0.00000000e+00  0.00000000e+00  5.75471878e+00 -1.00000000e+00\n",
      "  5.55726624e+00  0.00000000e+00  1.00000000e+00  0.00000000e+00\n",
      " -1.68164849e-01]\n"
     ]
    }
   ],
   "source": [
    "# reset the environment\n",
    "env_info = env.reset(train_mode=True)[brain_name]\n",
    "\n",
    "# number of agents\n",
    "num_agents = len(env_info.agents)\n",
    "print('Number of agents:', num_agents)\n",
    "\n",
    "# size of each action\n",
    "action_size = brain.vector_action_space_size\n",
    "print('Size of each action:', action_size)\n",
    "\n",
    "# examine the state space \n",
    "states = env_info.vector_observations\n",
    "state_size = states.shape[1]\n",
    "print('There are {} agents. Each observes a state with length: {}'.format(states.shape[0], state_size))\n",
    "print('The state for the first agent looks like:', states[0])"
   ]
  },
  {
   "cell_type": "markdown",
   "metadata": {},
   "source": [
    "### 4. It's Your Turn!\n",
    "\n",
    "Now it's your turn to train your own agent to solve the environment!  When training the environment, set `train_mode=True`, so that the line for resetting the environment looks like the following:\n",
    "```python\n",
    "env_info = env.reset(train_mode=True)[brain_name]\n",
    "```"
   ]
  },
  {
   "cell_type": "code",
   "execution_count": 5,
   "metadata": {},
   "outputs": [],
   "source": [
    "import torch\n",
    "import collections\n",
    "from ddpg_agent import Agent"
   ]
  },
  {
   "cell_type": "code",
   "execution_count": 6,
   "metadata": {},
   "outputs": [],
   "source": [
    "agent = Agent(state_size, action_size, num_agents, 0)"
   ]
  },
  {
   "cell_type": "code",
   "execution_count": 7,
   "metadata": {},
   "outputs": [
    {
     "name": "stdout",
     "output_type": "stream",
     "text": [
      "Starting training\n",
      "Episode: 1  Avg score: 0.72\n",
      "Episode: 2  Avg score: 0.27\n",
      "Episode: 3  Avg score: 0.31\n",
      "Episode: 4  Avg score: 0.24\n",
      "Episode: 5  Avg score: 0.88\n",
      "Episode: 6  Avg score: 1.29\n",
      "Episode: 7  Avg score: 1.72\n",
      "Episode: 8  Avg score: 1.93\n",
      "Episode: 9  Avg score: 2.46\n",
      "Episode: 10  Avg score: 3.30\n",
      "Episode: 11  Avg score: 3.82\n",
      "Episode: 12  Avg score: 5.43\n",
      "Episode: 13  Avg score: 5.92\n",
      "Episode: 14  Avg score: 6.86\n",
      "Episode: 15  Avg score: 8.41\n",
      "Episode: 16  Avg score: 9.79\n",
      "Episode: 17  Avg score: 11.15\n",
      "Episode: 18  Avg score: 12.37\n",
      "Episode: 19  Avg score: 15.04\n",
      "Episode: 20  Avg score: 15.17\n",
      "Episode: 21  Avg score: 16.11\n",
      "Episode: 22  Avg score: 18.81\n",
      "Episode: 23  Avg score: 21.36\n",
      "Episode: 24  Avg score: 23.85\n",
      "Episode: 25  Avg score: 25.13\n",
      "Episode: 26  Avg score: 24.60\n",
      "Episode: 27  Avg score: 26.19\n",
      "Episode: 28  Avg score: 28.50\n",
      "Episode: 29  Avg score: 30.29\n",
      "Episode: 30  Avg score: 30.41\n",
      "Episode: 31  Avg score: 31.05\n",
      "Episode: 32  Avg score: 31.68\n",
      "Episode: 33  Avg score: 33.55\n",
      "Episode: 34  Avg score: 35.34\n",
      "Training complete since the score is already quite high\n",
      "Episode: 35  Avg score: 34.54\n",
      "Episode: 36  Avg score: 33.95\n",
      "Episode: 37  Avg score: 34.98\n",
      "Episode: 38  Avg score: 34.03\n",
      "Episode: 39  Avg score: 35.58\n",
      "Episode: 40  Avg score: 33.53\n",
      "Episode: 41  Avg score: 34.30\n",
      "Episode: 42  Avg score: 34.83\n",
      "Episode: 43  Avg score: 34.58\n",
      "Episode: 44  Avg score: 34.52\n",
      "Episode: 45  Avg score: 35.71\n",
      "Episode: 46  Avg score: 34.67\n",
      "Episode: 47  Avg score: 34.17\n",
      "Episode: 48  Avg score: 35.01\n",
      "Episode: 49  Avg score: 33.72\n",
      "Episode: 50  Avg score: 34.68\n",
      "Episode: 51  Avg score: 34.71\n",
      "Episode: 52  Avg score: 34.89\n",
      "Episode: 53  Avg score: 33.60\n",
      "Episode: 54  Avg score: 34.40\n",
      "Episode: 55  Avg score: 34.19\n",
      "Episode: 56  Avg score: 34.78\n",
      "Episode: 57  Avg score: 34.22\n",
      "Episode: 58  Avg score: 34.73\n",
      "Episode: 59  Avg score: 34.27\n",
      "Episode: 60  Avg score: 34.15\n",
      "Episode: 61  Avg score: 34.59\n",
      "Episode: 62  Avg score: 33.84\n",
      "Episode: 63  Avg score: 35.28\n",
      "Episode: 64  Avg score: 34.46\n",
      "Episode: 65  Avg score: 33.98\n",
      "Episode: 66  Avg score: 33.96\n",
      "Episode: 67  Avg score: 34.69\n",
      "Episode: 68  Avg score: 33.66\n",
      "Episode: 69  Avg score: 34.83\n",
      "Episode: 70  Avg score: 33.67\n",
      "Episode: 71  Avg score: 33.39\n",
      "Episode: 72  Avg score: 34.09\n",
      "Episode: 73  Avg score: 34.03\n",
      "Episode: 74  Avg score: 34.33\n",
      "Episode: 75  Avg score: 34.38\n",
      "Episode: 76  Avg score: 34.31\n",
      "Episode: 77  Avg score: 34.13\n",
      "Episode: 78  Avg score: 34.22\n",
      "Episode: 79  Avg score: 34.61\n",
      "Episode: 80  Avg score: 33.80\n",
      "Episode: 81  Avg score: 34.67\n",
      "Episode: 82  Avg score: 34.07\n",
      "Episode: 83  Avg score: 34.51\n",
      "Episode: 84  Avg score: 34.76\n",
      "Episode: 85  Avg score: 35.31\n",
      "Episode: 86  Avg score: 34.35\n",
      "Episode: 87  Avg score: 33.98\n",
      "Episode: 88  Avg score: 33.71\n",
      "Episode: 89  Avg score: 34.45\n",
      "Episode: 90  Avg score: 34.17\n",
      "Episode: 91  Avg score: 33.77\n",
      "Episode: 92  Avg score: 34.14\n",
      "Episode: 93  Avg score: 34.62\n",
      "Episode: 94  Avg score: 33.81\n",
      "Episode: 95  Avg score: 34.24\n",
      "Episode: 96  Avg score: 34.02\n",
      "Episode: 97  Avg score: 34.57\n",
      "Episode: 98  Avg score: 34.91\n",
      "Episode: 99  Avg score: 34.16\n",
      "Episode: 100  Avg score: 33.52\n",
      "Episode: 101  Avg score: 35.04\n",
      "Episode: 102  Avg score: 34.23\n",
      "Episode: 103  Avg score: 33.51\n",
      "Episode: 104  Avg score: 35.27\n",
      "Episode: 105  Avg score: 34.25\n",
      "Episode: 106  Avg score: 34.46\n",
      "Episode: 107  Avg score: 34.64\n",
      "Episode: 108  Avg score: 33.54\n",
      "\n",
      "Environment solved!\tAverage Score in last 100 episodes: 30.18\n"
     ]
    }
   ],
   "source": [
    "def ddpg_train(max_episodes=1000, eps_initial=1.0, eps_end=0.05, eps_decay=0.99):\n",
    "       \n",
    "    scores_history = []                                           # for plotting graph\n",
    "    scores_window = collections.deque(maxlen=100)                 # for keeping last 100 scores\n",
    "    eps = eps_initial                                             # start of eps noise factor\n",
    "    training_complete = False\n",
    "    episode = 1\n",
    "    \n",
    "    while episode < max_episodes + 1:\n",
    "        \n",
    "        agent.reset()                                             # reset the agent for noise\n",
    "        env_info = env.reset(train_mode=True)[brain_name]         # reset the environment  \n",
    "        states = env_info.vector_observations                     # get the current state (for each agent)\n",
    "        ep_scores = np.zeros(num_agents)                          # initialize the score (for each agent)\n",
    "        step = 0\n",
    "\n",
    "        episode_running = True                                    # flag for breaking the loop\n",
    "        while episode_running:\n",
    "            step = step + 1\n",
    "            actions = agent.act(states, 1.0)                      # select an action (for each agent)\n",
    "            env_info = env.step(actions)[brain_name]              # send all actions to tne environment\n",
    "            next_states = env_info.vector_observations            # get next state (for each agent)\n",
    "            rewards = env_info.rewards                            # get reward (for each agent)\n",
    "            dones = env_info.local_done                           # see if episode finished\n",
    "            ep_scores += env_info.rewards                         # update the score (for each agent)\n",
    "            \n",
    "            if len(scores_history) > 0:\n",
    "                if scores_history[-1] > 35 and (not training_complete):\n",
    "                    print(\"\\rTraining complete since the score is already quite high\")\n",
    "                    training_complete = True\n",
    "\n",
    "            if not training_complete:\n",
    "                agent.step(states,actions,rewards,next_states,dones)  # agent to update with env info\n",
    "            \n",
    "            states = next_states                                  # roll over states to next time step\n",
    "            if np.any(dones):                                     # exit loop if ANY episode finished\n",
    "                episode_running = False\n",
    "            print(\"\\rstep: \", step, end=\"\")\n",
    "\n",
    "        if agent.training_started == True:        \n",
    "            scores_history.append(np.mean(ep_scores))             # append episodic avg score to history\n",
    "            scores_window.append(np.mean(ep_scores))\n",
    "\n",
    "            print('\\rEpisode: {}  Avg score: {:.2f}'.format(episode, np.mean(ep_scores)))\n",
    "\n",
    "            if len(scores_window) >=100 and np.mean(scores_window) >= 30.:\n",
    "                dicts_to_save = {'model_actor': agent.actor_local.state_dict(), \n",
    "                                 'model_critic': agent.critic_local.state_dict()}\n",
    "                torch.save(dicts_to_save, 'agent.pt')\n",
    "                print('\\nEnvironment solved!\\tAverage Score in last 100 episodes: {:.2f}'.format(np.mean(scores_window)))\n",
    "\n",
    "                break\n",
    "\n",
    "            episode += 1\n",
    "            eps = max(eps*eps_decay,eps_end)\n",
    "        \n",
    "\n",
    "    env.close()\n",
    "        \n",
    "    return scores_history\n",
    "\n",
    "scores_history = ddpg_train(500)"
   ]
  },
  {
   "cell_type": "code",
   "execution_count": 9,
   "metadata": {},
   "outputs": [
    {
     "data": {
      "image/png": "[encoded data removed]",
      "text/plain": [
       "<Figure size 432x288 with 1 Axes>"
      ]
     },
     "metadata": {
      "needs_background": "light"
     },
     "output_type": "display_data"
    }
   ],
   "source": [
    "import matplotlib.pyplot as plt\n",
    "\n",
    "plt.plot(np.arange(len(scores_history)), scores_history)\n",
    "plt.ylabel('Score')\n",
    "plt.xlabel('Episode #')\n",
    "plt.show()"
   ]
  }
 ],
 "metadata": {
  "kernelspec": {
   "display_name": "Python 3",
   "language": "python",
   "name": "python3"
  },
  "language_info": {
   "codemirror_mode": {
    "name": "ipython",
    "version": 3
   },
   "file_extension": ".py",
   "mimetype": "text/x-python",
   "name": "python",
   "nbconvert_exporter": "python",
   "pygments_lexer": "ipython3",
   "version": "3.6.8"
  }
 },
 "nbformat": 4,
 "nbformat_minor": 2
}
